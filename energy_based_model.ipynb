{
  "nbformat": 4,
  "nbformat_minor": 0,
  "metadata": {
    "colab": {
      "provenance": [],
      "collapsed_sections": []
    },
    "kernelspec": {
      "name": "python3",
      "display_name": "Python 3"
    },
    "language_info": {
      "name": "python"
    },
    "widgets": {
      "application/vnd.jupyter.widget-state+json": {
        "94b775de43dd4aeb8288a5346942674d": {
          "model_module": "@jupyter-widgets/controls",
          "model_name": "HBoxModel",
          "model_module_version": "1.5.0",
          "state": {
            "_dom_classes": [],
            "_model_module": "@jupyter-widgets/controls",
            "_model_module_version": "1.5.0",
            "_model_name": "HBoxModel",
            "_view_count": null,
            "_view_module": "@jupyter-widgets/controls",
            "_view_module_version": "1.5.0",
            "_view_name": "HBoxView",
            "box_style": "",
            "children": [
              "IPY_MODEL_b9bbf59e03b74cecabae2a9fefdfa20c",
              "IPY_MODEL_94bfeff30e9549979693084566c86448",
              "IPY_MODEL_c4f930c47b2e496abe177d9ced05a274"
            ],
            "layout": "IPY_MODEL_12c2701333704c03b548c613e7272630"
          }
        },
        "b9bbf59e03b74cecabae2a9fefdfa20c": {
          "model_module": "@jupyter-widgets/controls",
          "model_name": "HTMLModel",
          "model_module_version": "1.5.0",
          "state": {
            "_dom_classes": [],
            "_model_module": "@jupyter-widgets/controls",
            "_model_module_version": "1.5.0",
            "_model_name": "HTMLModel",
            "_view_count": null,
            "_view_module": "@jupyter-widgets/controls",
            "_view_module_version": "1.5.0",
            "_view_name": "HTMLView",
            "description": "",
            "description_tooltip": null,
            "layout": "IPY_MODEL_f437d96bf2a040239b0f79478a2b4c49",
            "placeholder": "​",
            "style": "IPY_MODEL_f1bf313f4bea4189adde16e8c006e6d4",
            "value": "100%"
          }
        },
        "94bfeff30e9549979693084566c86448": {
          "model_module": "@jupyter-widgets/controls",
          "model_name": "FloatProgressModel",
          "model_module_version": "1.5.0",
          "state": {
            "_dom_classes": [],
            "_model_module": "@jupyter-widgets/controls",
            "_model_module_version": "1.5.0",
            "_model_name": "FloatProgressModel",
            "_view_count": null,
            "_view_module": "@jupyter-widgets/controls",
            "_view_module_version": "1.5.0",
            "_view_name": "ProgressView",
            "bar_style": "success",
            "description": "",
            "description_tooltip": null,
            "layout": "IPY_MODEL_c8ba30e99368465a958f113c13e3c87a",
            "max": 9912422,
            "min": 0,
            "orientation": "horizontal",
            "style": "IPY_MODEL_7f6b00e4dcbb45dca4e4f53bff09705a",
            "value": 9912422
          }
        },
        "c4f930c47b2e496abe177d9ced05a274": {
          "model_module": "@jupyter-widgets/controls",
          "model_name": "HTMLModel",
          "model_module_version": "1.5.0",
          "state": {
            "_dom_classes": [],
            "_model_module": "@jupyter-widgets/controls",
            "_model_module_version": "1.5.0",
            "_model_name": "HTMLModel",
            "_view_count": null,
            "_view_module": "@jupyter-widgets/controls",
            "_view_module_version": "1.5.0",
            "_view_name": "HTMLView",
            "description": "",
            "description_tooltip": null,
            "layout": "IPY_MODEL_a9c632d5f18146efb589a7d4d5d7f7c5",
            "placeholder": "​",
            "style": "IPY_MODEL_7b00f79630f345cb95d66f30afdb125d",
            "value": " 9912422/9912422 [00:00&lt;00:00, 60817581.69it/s]"
          }
        },
        "12c2701333704c03b548c613e7272630": {
          "model_module": "@jupyter-widgets/base",
          "model_name": "LayoutModel",
          "model_module_version": "1.2.0",
          "state": {
            "_model_module": "@jupyter-widgets/base",
            "_model_module_version": "1.2.0",
            "_model_name": "LayoutModel",
            "_view_count": null,
            "_view_module": "@jupyter-widgets/base",
            "_view_module_version": "1.2.0",
            "_view_name": "LayoutView",
            "align_content": null,
            "align_items": null,
            "align_self": null,
            "border": null,
            "bottom": null,
            "display": null,
            "flex": null,
            "flex_flow": null,
            "grid_area": null,
            "grid_auto_columns": null,
            "grid_auto_flow": null,
            "grid_auto_rows": null,
            "grid_column": null,
            "grid_gap": null,
            "grid_row": null,
            "grid_template_areas": null,
            "grid_template_columns": null,
            "grid_template_rows": null,
            "height": null,
            "justify_content": null,
            "justify_items": null,
            "left": null,
            "margin": null,
            "max_height": null,
            "max_width": null,
            "min_height": null,
            "min_width": null,
            "object_fit": null,
            "object_position": null,
            "order": null,
            "overflow": null,
            "overflow_x": null,
            "overflow_y": null,
            "padding": null,
            "right": null,
            "top": null,
            "visibility": null,
            "width": null
          }
        },
        "f437d96bf2a040239b0f79478a2b4c49": {
          "model_module": "@jupyter-widgets/base",
          "model_name": "LayoutModel",
          "model_module_version": "1.2.0",
          "state": {
            "_model_module": "@jupyter-widgets/base",
            "_model_module_version": "1.2.0",
            "_model_name": "LayoutModel",
            "_view_count": null,
            "_view_module": "@jupyter-widgets/base",
            "_view_module_version": "1.2.0",
            "_view_name": "LayoutView",
            "align_content": null,
            "align_items": null,
            "align_self": null,
            "border": null,
            "bottom": null,
            "display": null,
            "flex": null,
            "flex_flow": null,
            "grid_area": null,
            "grid_auto_columns": null,
            "grid_auto_flow": null,
            "grid_auto_rows": null,
            "grid_column": null,
            "grid_gap": null,
            "grid_row": null,
            "grid_template_areas": null,
            "grid_template_columns": null,
            "grid_template_rows": null,
            "height": null,
            "justify_content": null,
            "justify_items": null,
            "left": null,
            "margin": null,
            "max_height": null,
            "max_width": null,
            "min_height": null,
            "min_width": null,
            "object_fit": null,
            "object_position": null,
            "order": null,
            "overflow": null,
            "overflow_x": null,
            "overflow_y": null,
            "padding": null,
            "right": null,
            "top": null,
            "visibility": null,
            "width": null
          }
        },
        "f1bf313f4bea4189adde16e8c006e6d4": {
          "model_module": "@jupyter-widgets/controls",
          "model_name": "DescriptionStyleModel",
          "model_module_version": "1.5.0",
          "state": {
            "_model_module": "@jupyter-widgets/controls",
            "_model_module_version": "1.5.0",
            "_model_name": "DescriptionStyleModel",
            "_view_count": null,
            "_view_module": "@jupyter-widgets/base",
            "_view_module_version": "1.2.0",
            "_view_name": "StyleView",
            "description_width": ""
          }
        },
        "c8ba30e99368465a958f113c13e3c87a": {
          "model_module": "@jupyter-widgets/base",
          "model_name": "LayoutModel",
          "model_module_version": "1.2.0",
          "state": {
            "_model_module": "@jupyter-widgets/base",
            "_model_module_version": "1.2.0",
            "_model_name": "LayoutModel",
            "_view_count": null,
            "_view_module": "@jupyter-widgets/base",
            "_view_module_version": "1.2.0",
            "_view_name": "LayoutView",
            "align_content": null,
            "align_items": null,
            "align_self": null,
            "border": null,
            "bottom": null,
            "display": null,
            "flex": null,
            "flex_flow": null,
            "grid_area": null,
            "grid_auto_columns": null,
            "grid_auto_flow": null,
            "grid_auto_rows": null,
            "grid_column": null,
            "grid_gap": null,
            "grid_row": null,
            "grid_template_areas": null,
            "grid_template_columns": null,
            "grid_template_rows": null,
            "height": null,
            "justify_content": null,
            "justify_items": null,
            "left": null,
            "margin": null,
            "max_height": null,
            "max_width": null,
            "min_height": null,
            "min_width": null,
            "object_fit": null,
            "object_position": null,
            "order": null,
            "overflow": null,
            "overflow_x": null,
            "overflow_y": null,
            "padding": null,
            "right": null,
            "top": null,
            "visibility": null,
            "width": null
          }
        },
        "7f6b00e4dcbb45dca4e4f53bff09705a": {
          "model_module": "@jupyter-widgets/controls",
          "model_name": "ProgressStyleModel",
          "model_module_version": "1.5.0",
          "state": {
            "_model_module": "@jupyter-widgets/controls",
            "_model_module_version": "1.5.0",
            "_model_name": "ProgressStyleModel",
            "_view_count": null,
            "_view_module": "@jupyter-widgets/base",
            "_view_module_version": "1.2.0",
            "_view_name": "StyleView",
            "bar_color": null,
            "description_width": ""
          }
        },
        "a9c632d5f18146efb589a7d4d5d7f7c5": {
          "model_module": "@jupyter-widgets/base",
          "model_name": "LayoutModel",
          "model_module_version": "1.2.0",
          "state": {
            "_model_module": "@jupyter-widgets/base",
            "_model_module_version": "1.2.0",
            "_model_name": "LayoutModel",
            "_view_count": null,
            "_view_module": "@jupyter-widgets/base",
            "_view_module_version": "1.2.0",
            "_view_name": "LayoutView",
            "align_content": null,
            "align_items": null,
            "align_self": null,
            "border": null,
            "bottom": null,
            "display": null,
            "flex": null,
            "flex_flow": null,
            "grid_area": null,
            "grid_auto_columns": null,
            "grid_auto_flow": null,
            "grid_auto_rows": null,
            "grid_column": null,
            "grid_gap": null,
            "grid_row": null,
            "grid_template_areas": null,
            "grid_template_columns": null,
            "grid_template_rows": null,
            "height": null,
            "justify_content": null,
            "justify_items": null,
            "left": null,
            "margin": null,
            "max_height": null,
            "max_width": null,
            "min_height": null,
            "min_width": null,
            "object_fit": null,
            "object_position": null,
            "order": null,
            "overflow": null,
            "overflow_x": null,
            "overflow_y": null,
            "padding": null,
            "right": null,
            "top": null,
            "visibility": null,
            "width": null
          }
        },
        "7b00f79630f345cb95d66f30afdb125d": {
          "model_module": "@jupyter-widgets/controls",
          "model_name": "DescriptionStyleModel",
          "model_module_version": "1.5.0",
          "state": {
            "_model_module": "@jupyter-widgets/controls",
            "_model_module_version": "1.5.0",
            "_model_name": "DescriptionStyleModel",
            "_view_count": null,
            "_view_module": "@jupyter-widgets/base",
            "_view_module_version": "1.2.0",
            "_view_name": "StyleView",
            "description_width": ""
          }
        },
        "733d1c75bec24e84a6a2e7610a37cbd3": {
          "model_module": "@jupyter-widgets/controls",
          "model_name": "HBoxModel",
          "model_module_version": "1.5.0",
          "state": {
            "_dom_classes": [],
            "_model_module": "@jupyter-widgets/controls",
            "_model_module_version": "1.5.0",
            "_model_name": "HBoxModel",
            "_view_count": null,
            "_view_module": "@jupyter-widgets/controls",
            "_view_module_version": "1.5.0",
            "_view_name": "HBoxView",
            "box_style": "",
            "children": [
              "IPY_MODEL_7c6d6bd1cfe54a859f4a9565e33ec9de",
              "IPY_MODEL_5d5a5ed232a74f7599175ecdcbd63f31",
              "IPY_MODEL_b41ab1751d1047b48d77e7838f96f013"
            ],
            "layout": "IPY_MODEL_5016e73437084bb19bceb9bb9143ae4b"
          }
        },
        "7c6d6bd1cfe54a859f4a9565e33ec9de": {
          "model_module": "@jupyter-widgets/controls",
          "model_name": "HTMLModel",
          "model_module_version": "1.5.0",
          "state": {
            "_dom_classes": [],
            "_model_module": "@jupyter-widgets/controls",
            "_model_module_version": "1.5.0",
            "_model_name": "HTMLModel",
            "_view_count": null,
            "_view_module": "@jupyter-widgets/controls",
            "_view_module_version": "1.5.0",
            "_view_name": "HTMLView",
            "description": "",
            "description_tooltip": null,
            "layout": "IPY_MODEL_619cbdb7b39d484b9b12662ffaa93a99",
            "placeholder": "​",
            "style": "IPY_MODEL_7498ec9bee9a43fea2d9c75d3a3b66f7",
            "value": "100%"
          }
        },
        "5d5a5ed232a74f7599175ecdcbd63f31": {
          "model_module": "@jupyter-widgets/controls",
          "model_name": "FloatProgressModel",
          "model_module_version": "1.5.0",
          "state": {
            "_dom_classes": [],
            "_model_module": "@jupyter-widgets/controls",
            "_model_module_version": "1.5.0",
            "_model_name": "FloatProgressModel",
            "_view_count": null,
            "_view_module": "@jupyter-widgets/controls",
            "_view_module_version": "1.5.0",
            "_view_name": "ProgressView",
            "bar_style": "success",
            "description": "",
            "description_tooltip": null,
            "layout": "IPY_MODEL_20f4642341574093859dfb80275c191c",
            "max": 28881,
            "min": 0,
            "orientation": "horizontal",
            "style": "IPY_MODEL_243fbc402aa9494dbe78c165d49dd989",
            "value": 28881
          }
        },
        "b41ab1751d1047b48d77e7838f96f013": {
          "model_module": "@jupyter-widgets/controls",
          "model_name": "HTMLModel",
          "model_module_version": "1.5.0",
          "state": {
            "_dom_classes": [],
            "_model_module": "@jupyter-widgets/controls",
            "_model_module_version": "1.5.0",
            "_model_name": "HTMLModel",
            "_view_count": null,
            "_view_module": "@jupyter-widgets/controls",
            "_view_module_version": "1.5.0",
            "_view_name": "HTMLView",
            "description": "",
            "description_tooltip": null,
            "layout": "IPY_MODEL_0760bf791e8e4488ae42869628f4566f",
            "placeholder": "​",
            "style": "IPY_MODEL_7545266a13f8441e9b3543fe1aff51a1",
            "value": " 28881/28881 [00:00&lt;00:00, 571551.15it/s]"
          }
        },
        "5016e73437084bb19bceb9bb9143ae4b": {
          "model_module": "@jupyter-widgets/base",
          "model_name": "LayoutModel",
          "model_module_version": "1.2.0",
          "state": {
            "_model_module": "@jupyter-widgets/base",
            "_model_module_version": "1.2.0",
            "_model_name": "LayoutModel",
            "_view_count": null,
            "_view_module": "@jupyter-widgets/base",
            "_view_module_version": "1.2.0",
            "_view_name": "LayoutView",
            "align_content": null,
            "align_items": null,
            "align_self": null,
            "border": null,
            "bottom": null,
            "display": null,
            "flex": null,
            "flex_flow": null,
            "grid_area": null,
            "grid_auto_columns": null,
            "grid_auto_flow": null,
            "grid_auto_rows": null,
            "grid_column": null,
            "grid_gap": null,
            "grid_row": null,
            "grid_template_areas": null,
            "grid_template_columns": null,
            "grid_template_rows": null,
            "height": null,
            "justify_content": null,
            "justify_items": null,
            "left": null,
            "margin": null,
            "max_height": null,
            "max_width": null,
            "min_height": null,
            "min_width": null,
            "object_fit": null,
            "object_position": null,
            "order": null,
            "overflow": null,
            "overflow_x": null,
            "overflow_y": null,
            "padding": null,
            "right": null,
            "top": null,
            "visibility": null,
            "width": null
          }
        },
        "619cbdb7b39d484b9b12662ffaa93a99": {
          "model_module": "@jupyter-widgets/base",
          "model_name": "LayoutModel",
          "model_module_version": "1.2.0",
          "state": {
            "_model_module": "@jupyter-widgets/base",
            "_model_module_version": "1.2.0",
            "_model_name": "LayoutModel",
            "_view_count": null,
            "_view_module": "@jupyter-widgets/base",
            "_view_module_version": "1.2.0",
            "_view_name": "LayoutView",
            "align_content": null,
            "align_items": null,
            "align_self": null,
            "border": null,
            "bottom": null,
            "display": null,
            "flex": null,
            "flex_flow": null,
            "grid_area": null,
            "grid_auto_columns": null,
            "grid_auto_flow": null,
            "grid_auto_rows": null,
            "grid_column": null,
            "grid_gap": null,
            "grid_row": null,
            "grid_template_areas": null,
            "grid_template_columns": null,
            "grid_template_rows": null,
            "height": null,
            "justify_content": null,
            "justify_items": null,
            "left": null,
            "margin": null,
            "max_height": null,
            "max_width": null,
            "min_height": null,
            "min_width": null,
            "object_fit": null,
            "object_position": null,
            "order": null,
            "overflow": null,
            "overflow_x": null,
            "overflow_y": null,
            "padding": null,
            "right": null,
            "top": null,
            "visibility": null,
            "width": null
          }
        },
        "7498ec9bee9a43fea2d9c75d3a3b66f7": {
          "model_module": "@jupyter-widgets/controls",
          "model_name": "DescriptionStyleModel",
          "model_module_version": "1.5.0",
          "state": {
            "_model_module": "@jupyter-widgets/controls",
            "_model_module_version": "1.5.0",
            "_model_name": "DescriptionStyleModel",
            "_view_count": null,
            "_view_module": "@jupyter-widgets/base",
            "_view_module_version": "1.2.0",
            "_view_name": "StyleView",
            "description_width": ""
          }
        },
        "20f4642341574093859dfb80275c191c": {
          "model_module": "@jupyter-widgets/base",
          "model_name": "LayoutModel",
          "model_module_version": "1.2.0",
          "state": {
            "_model_module": "@jupyter-widgets/base",
            "_model_module_version": "1.2.0",
            "_model_name": "LayoutModel",
            "_view_count": null,
            "_view_module": "@jupyter-widgets/base",
            "_view_module_version": "1.2.0",
            "_view_name": "LayoutView",
            "align_content": null,
            "align_items": null,
            "align_self": null,
            "border": null,
            "bottom": null,
            "display": null,
            "flex": null,
            "flex_flow": null,
            "grid_area": null,
            "grid_auto_columns": null,
            "grid_auto_flow": null,
            "grid_auto_rows": null,
            "grid_column": null,
            "grid_gap": null,
            "grid_row": null,
            "grid_template_areas": null,
            "grid_template_columns": null,
            "grid_template_rows": null,
            "height": null,
            "justify_content": null,
            "justify_items": null,
            "left": null,
            "margin": null,
            "max_height": null,
            "max_width": null,
            "min_height": null,
            "min_width": null,
            "object_fit": null,
            "object_position": null,
            "order": null,
            "overflow": null,
            "overflow_x": null,
            "overflow_y": null,
            "padding": null,
            "right": null,
            "top": null,
            "visibility": null,
            "width": null
          }
        },
        "243fbc402aa9494dbe78c165d49dd989": {
          "model_module": "@jupyter-widgets/controls",
          "model_name": "ProgressStyleModel",
          "model_module_version": "1.5.0",
          "state": {
            "_model_module": "@jupyter-widgets/controls",
            "_model_module_version": "1.5.0",
            "_model_name": "ProgressStyleModel",
            "_view_count": null,
            "_view_module": "@jupyter-widgets/base",
            "_view_module_version": "1.2.0",
            "_view_name": "StyleView",
            "bar_color": null,
            "description_width": ""
          }
        },
        "0760bf791e8e4488ae42869628f4566f": {
          "model_module": "@jupyter-widgets/base",
          "model_name": "LayoutModel",
          "model_module_version": "1.2.0",
          "state": {
            "_model_module": "@jupyter-widgets/base",
            "_model_module_version": "1.2.0",
            "_model_name": "LayoutModel",
            "_view_count": null,
            "_view_module": "@jupyter-widgets/base",
            "_view_module_version": "1.2.0",
            "_view_name": "LayoutView",
            "align_content": null,
            "align_items": null,
            "align_self": null,
            "border": null,
            "bottom": null,
            "display": null,
            "flex": null,
            "flex_flow": null,
            "grid_area": null,
            "grid_auto_columns": null,
            "grid_auto_flow": null,
            "grid_auto_rows": null,
            "grid_column": null,
            "grid_gap": null,
            "grid_row": null,
            "grid_template_areas": null,
            "grid_template_columns": null,
            "grid_template_rows": null,
            "height": null,
            "justify_content": null,
            "justify_items": null,
            "left": null,
            "margin": null,
            "max_height": null,
            "max_width": null,
            "min_height": null,
            "min_width": null,
            "object_fit": null,
            "object_position": null,
            "order": null,
            "overflow": null,
            "overflow_x": null,
            "overflow_y": null,
            "padding": null,
            "right": null,
            "top": null,
            "visibility": null,
            "width": null
          }
        },
        "7545266a13f8441e9b3543fe1aff51a1": {
          "model_module": "@jupyter-widgets/controls",
          "model_name": "DescriptionStyleModel",
          "model_module_version": "1.5.0",
          "state": {
            "_model_module": "@jupyter-widgets/controls",
            "_model_module_version": "1.5.0",
            "_model_name": "DescriptionStyleModel",
            "_view_count": null,
            "_view_module": "@jupyter-widgets/base",
            "_view_module_version": "1.2.0",
            "_view_name": "StyleView",
            "description_width": ""
          }
        },
        "b3293e3652f14b9a8fdc6ca5ee193463": {
          "model_module": "@jupyter-widgets/controls",
          "model_name": "HBoxModel",
          "model_module_version": "1.5.0",
          "state": {
            "_dom_classes": [],
            "_model_module": "@jupyter-widgets/controls",
            "_model_module_version": "1.5.0",
            "_model_name": "HBoxModel",
            "_view_count": null,
            "_view_module": "@jupyter-widgets/controls",
            "_view_module_version": "1.5.0",
            "_view_name": "HBoxView",
            "box_style": "",
            "children": [
              "IPY_MODEL_635694902b164ca888cda63d62a4ea59",
              "IPY_MODEL_828ebf406cf54ba4b29e2c75e4afee19",
              "IPY_MODEL_edbfca620b1441448f2cd587e29d2fca"
            ],
            "layout": "IPY_MODEL_8d5e999ecd0d46ea81ff3c4f326a3433"
          }
        },
        "635694902b164ca888cda63d62a4ea59": {
          "model_module": "@jupyter-widgets/controls",
          "model_name": "HTMLModel",
          "model_module_version": "1.5.0",
          "state": {
            "_dom_classes": [],
            "_model_module": "@jupyter-widgets/controls",
            "_model_module_version": "1.5.0",
            "_model_name": "HTMLModel",
            "_view_count": null,
            "_view_module": "@jupyter-widgets/controls",
            "_view_module_version": "1.5.0",
            "_view_name": "HTMLView",
            "description": "",
            "description_tooltip": null,
            "layout": "IPY_MODEL_2e325a4b099c468f87eb8463141a43cb",
            "placeholder": "​",
            "style": "IPY_MODEL_6a034af5b14047498451256c6ed28d8a",
            "value": "100%"
          }
        },
        "828ebf406cf54ba4b29e2c75e4afee19": {
          "model_module": "@jupyter-widgets/controls",
          "model_name": "FloatProgressModel",
          "model_module_version": "1.5.0",
          "state": {
            "_dom_classes": [],
            "_model_module": "@jupyter-widgets/controls",
            "_model_module_version": "1.5.0",
            "_model_name": "FloatProgressModel",
            "_view_count": null,
            "_view_module": "@jupyter-widgets/controls",
            "_view_module_version": "1.5.0",
            "_view_name": "ProgressView",
            "bar_style": "success",
            "description": "",
            "description_tooltip": null,
            "layout": "IPY_MODEL_cbf45d2a122b458a9c0f2eb934a0a6d1",
            "max": 1648877,
            "min": 0,
            "orientation": "horizontal",
            "style": "IPY_MODEL_6a30d922e02747c1a364fbd089ced163",
            "value": 1648877
          }
        },
        "edbfca620b1441448f2cd587e29d2fca": {
          "model_module": "@jupyter-widgets/controls",
          "model_name": "HTMLModel",
          "model_module_version": "1.5.0",
          "state": {
            "_dom_classes": [],
            "_model_module": "@jupyter-widgets/controls",
            "_model_module_version": "1.5.0",
            "_model_name": "HTMLModel",
            "_view_count": null,
            "_view_module": "@jupyter-widgets/controls",
            "_view_module_version": "1.5.0",
            "_view_name": "HTMLView",
            "description": "",
            "description_tooltip": null,
            "layout": "IPY_MODEL_f0323ae5a70c4e6b8ed3d437966d835d",
            "placeholder": "​",
            "style": "IPY_MODEL_02e8a546e55545058960fbb363768b28",
            "value": " 1648877/1648877 [00:00&lt;00:00, 19250058.16it/s]"
          }
        },
        "8d5e999ecd0d46ea81ff3c4f326a3433": {
          "model_module": "@jupyter-widgets/base",
          "model_name": "LayoutModel",
          "model_module_version": "1.2.0",
          "state": {
            "_model_module": "@jupyter-widgets/base",
            "_model_module_version": "1.2.0",
            "_model_name": "LayoutModel",
            "_view_count": null,
            "_view_module": "@jupyter-widgets/base",
            "_view_module_version": "1.2.0",
            "_view_name": "LayoutView",
            "align_content": null,
            "align_items": null,
            "align_self": null,
            "border": null,
            "bottom": null,
            "display": null,
            "flex": null,
            "flex_flow": null,
            "grid_area": null,
            "grid_auto_columns": null,
            "grid_auto_flow": null,
            "grid_auto_rows": null,
            "grid_column": null,
            "grid_gap": null,
            "grid_row": null,
            "grid_template_areas": null,
            "grid_template_columns": null,
            "grid_template_rows": null,
            "height": null,
            "justify_content": null,
            "justify_items": null,
            "left": null,
            "margin": null,
            "max_height": null,
            "max_width": null,
            "min_height": null,
            "min_width": null,
            "object_fit": null,
            "object_position": null,
            "order": null,
            "overflow": null,
            "overflow_x": null,
            "overflow_y": null,
            "padding": null,
            "right": null,
            "top": null,
            "visibility": null,
            "width": null
          }
        },
        "2e325a4b099c468f87eb8463141a43cb": {
          "model_module": "@jupyter-widgets/base",
          "model_name": "LayoutModel",
          "model_module_version": "1.2.0",
          "state": {
            "_model_module": "@jupyter-widgets/base",
            "_model_module_version": "1.2.0",
            "_model_name": "LayoutModel",
            "_view_count": null,
            "_view_module": "@jupyter-widgets/base",
            "_view_module_version": "1.2.0",
            "_view_name": "LayoutView",
            "align_content": null,
            "align_items": null,
            "align_self": null,
            "border": null,
            "bottom": null,
            "display": null,
            "flex": null,
            "flex_flow": null,
            "grid_area": null,
            "grid_auto_columns": null,
            "grid_auto_flow": null,
            "grid_auto_rows": null,
            "grid_column": null,
            "grid_gap": null,
            "grid_row": null,
            "grid_template_areas": null,
            "grid_template_columns": null,
            "grid_template_rows": null,
            "height": null,
            "justify_content": null,
            "justify_items": null,
            "left": null,
            "margin": null,
            "max_height": null,
            "max_width": null,
            "min_height": null,
            "min_width": null,
            "object_fit": null,
            "object_position": null,
            "order": null,
            "overflow": null,
            "overflow_x": null,
            "overflow_y": null,
            "padding": null,
            "right": null,
            "top": null,
            "visibility": null,
            "width": null
          }
        },
        "6a034af5b14047498451256c6ed28d8a": {
          "model_module": "@jupyter-widgets/controls",
          "model_name": "DescriptionStyleModel",
          "model_module_version": "1.5.0",
          "state": {
            "_model_module": "@jupyter-widgets/controls",
            "_model_module_version": "1.5.0",
            "_model_name": "DescriptionStyleModel",
            "_view_count": null,
            "_view_module": "@jupyter-widgets/base",
            "_view_module_version": "1.2.0",
            "_view_name": "StyleView",
            "description_width": ""
          }
        },
        "cbf45d2a122b458a9c0f2eb934a0a6d1": {
          "model_module": "@jupyter-widgets/base",
          "model_name": "LayoutModel",
          "model_module_version": "1.2.0",
          "state": {
            "_model_module": "@jupyter-widgets/base",
            "_model_module_version": "1.2.0",
            "_model_name": "LayoutModel",
            "_view_count": null,
            "_view_module": "@jupyter-widgets/base",
            "_view_module_version": "1.2.0",
            "_view_name": "LayoutView",
            "align_content": null,
            "align_items": null,
            "align_self": null,
            "border": null,
            "bottom": null,
            "display": null,
            "flex": null,
            "flex_flow": null,
            "grid_area": null,
            "grid_auto_columns": null,
            "grid_auto_flow": null,
            "grid_auto_rows": null,
            "grid_column": null,
            "grid_gap": null,
            "grid_row": null,
            "grid_template_areas": null,
            "grid_template_columns": null,
            "grid_template_rows": null,
            "height": null,
            "justify_content": null,
            "justify_items": null,
            "left": null,
            "margin": null,
            "max_height": null,
            "max_width": null,
            "min_height": null,
            "min_width": null,
            "object_fit": null,
            "object_position": null,
            "order": null,
            "overflow": null,
            "overflow_x": null,
            "overflow_y": null,
            "padding": null,
            "right": null,
            "top": null,
            "visibility": null,
            "width": null
          }
        },
        "6a30d922e02747c1a364fbd089ced163": {
          "model_module": "@jupyter-widgets/controls",
          "model_name": "ProgressStyleModel",
          "model_module_version": "1.5.0",
          "state": {
            "_model_module": "@jupyter-widgets/controls",
            "_model_module_version": "1.5.0",
            "_model_name": "ProgressStyleModel",
            "_view_count": null,
            "_view_module": "@jupyter-widgets/base",
            "_view_module_version": "1.2.0",
            "_view_name": "StyleView",
            "bar_color": null,
            "description_width": ""
          }
        },
        "f0323ae5a70c4e6b8ed3d437966d835d": {
          "model_module": "@jupyter-widgets/base",
          "model_name": "LayoutModel",
          "model_module_version": "1.2.0",
          "state": {
            "_model_module": "@jupyter-widgets/base",
            "_model_module_version": "1.2.0",
            "_model_name": "LayoutModel",
            "_view_count": null,
            "_view_module": "@jupyter-widgets/base",
            "_view_module_version": "1.2.0",
            "_view_name": "LayoutView",
            "align_content": null,
            "align_items": null,
            "align_self": null,
            "border": null,
            "bottom": null,
            "display": null,
            "flex": null,
            "flex_flow": null,
            "grid_area": null,
            "grid_auto_columns": null,
            "grid_auto_flow": null,
            "grid_auto_rows": null,
            "grid_column": null,
            "grid_gap": null,
            "grid_row": null,
            "grid_template_areas": null,
            "grid_template_columns": null,
            "grid_template_rows": null,
            "height": null,
            "justify_content": null,
            "justify_items": null,
            "left": null,
            "margin": null,
            "max_height": null,
            "max_width": null,
            "min_height": null,
            "min_width": null,
            "object_fit": null,
            "object_position": null,
            "order": null,
            "overflow": null,
            "overflow_x": null,
            "overflow_y": null,
            "padding": null,
            "right": null,
            "top": null,
            "visibility": null,
            "width": null
          }
        },
        "02e8a546e55545058960fbb363768b28": {
          "model_module": "@jupyter-widgets/controls",
          "model_name": "DescriptionStyleModel",
          "model_module_version": "1.5.0",
          "state": {
            "_model_module": "@jupyter-widgets/controls",
            "_model_module_version": "1.5.0",
            "_model_name": "DescriptionStyleModel",
            "_view_count": null,
            "_view_module": "@jupyter-widgets/base",
            "_view_module_version": "1.2.0",
            "_view_name": "StyleView",
            "description_width": ""
          }
        },
        "421495470c46419f83af61332f1033b8": {
          "model_module": "@jupyter-widgets/controls",
          "model_name": "HBoxModel",
          "model_module_version": "1.5.0",
          "state": {
            "_dom_classes": [],
            "_model_module": "@jupyter-widgets/controls",
            "_model_module_version": "1.5.0",
            "_model_name": "HBoxModel",
            "_view_count": null,
            "_view_module": "@jupyter-widgets/controls",
            "_view_module_version": "1.5.0",
            "_view_name": "HBoxView",
            "box_style": "",
            "children": [
              "IPY_MODEL_50be26a263a84cdcaef91f055b04646b",
              "IPY_MODEL_d96f854b1a0c4cd8814e05b6a2b30922",
              "IPY_MODEL_024b6dc8b2ef4489a85b9cfabe084319"
            ],
            "layout": "IPY_MODEL_edc48f7e54ab496db8ddc995164d3dee"
          }
        },
        "50be26a263a84cdcaef91f055b04646b": {
          "model_module": "@jupyter-widgets/controls",
          "model_name": "HTMLModel",
          "model_module_version": "1.5.0",
          "state": {
            "_dom_classes": [],
            "_model_module": "@jupyter-widgets/controls",
            "_model_module_version": "1.5.0",
            "_model_name": "HTMLModel",
            "_view_count": null,
            "_view_module": "@jupyter-widgets/controls",
            "_view_module_version": "1.5.0",
            "_view_name": "HTMLView",
            "description": "",
            "description_tooltip": null,
            "layout": "IPY_MODEL_a8e8bc02a2dc4dc19db6d664a96623ff",
            "placeholder": "​",
            "style": "IPY_MODEL_35609e8f6e1d4aa9a4eb78fb0bcacd93",
            "value": "100%"
          }
        },
        "d96f854b1a0c4cd8814e05b6a2b30922": {
          "model_module": "@jupyter-widgets/controls",
          "model_name": "FloatProgressModel",
          "model_module_version": "1.5.0",
          "state": {
            "_dom_classes": [],
            "_model_module": "@jupyter-widgets/controls",
            "_model_module_version": "1.5.0",
            "_model_name": "FloatProgressModel",
            "_view_count": null,
            "_view_module": "@jupyter-widgets/controls",
            "_view_module_version": "1.5.0",
            "_view_name": "ProgressView",
            "bar_style": "success",
            "description": "",
            "description_tooltip": null,
            "layout": "IPY_MODEL_a62e58ff043c40409c8fc955f66a36f8",
            "max": 4542,
            "min": 0,
            "orientation": "horizontal",
            "style": "IPY_MODEL_295d6315ad77448fbbf41787fa917626",
            "value": 4542
          }
        },
        "024b6dc8b2ef4489a85b9cfabe084319": {
          "model_module": "@jupyter-widgets/controls",
          "model_name": "HTMLModel",
          "model_module_version": "1.5.0",
          "state": {
            "_dom_classes": [],
            "_model_module": "@jupyter-widgets/controls",
            "_model_module_version": "1.5.0",
            "_model_name": "HTMLModel",
            "_view_count": null,
            "_view_module": "@jupyter-widgets/controls",
            "_view_module_version": "1.5.0",
            "_view_name": "HTMLView",
            "description": "",
            "description_tooltip": null,
            "layout": "IPY_MODEL_1898741a87924b09b66777ea2a32e971",
            "placeholder": "​",
            "style": "IPY_MODEL_e29e33dab9db43598bfe270880390264",
            "value": " 4542/4542 [00:00&lt;00:00, 141576.46it/s]"
          }
        },
        "edc48f7e54ab496db8ddc995164d3dee": {
          "model_module": "@jupyter-widgets/base",
          "model_name": "LayoutModel",
          "model_module_version": "1.2.0",
          "state": {
            "_model_module": "@jupyter-widgets/base",
            "_model_module_version": "1.2.0",
            "_model_name": "LayoutModel",
            "_view_count": null,
            "_view_module": "@jupyter-widgets/base",
            "_view_module_version": "1.2.0",
            "_view_name": "LayoutView",
            "align_content": null,
            "align_items": null,
            "align_self": null,
            "border": null,
            "bottom": null,
            "display": null,
            "flex": null,
            "flex_flow": null,
            "grid_area": null,
            "grid_auto_columns": null,
            "grid_auto_flow": null,
            "grid_auto_rows": null,
            "grid_column": null,
            "grid_gap": null,
            "grid_row": null,
            "grid_template_areas": null,
            "grid_template_columns": null,
            "grid_template_rows": null,
            "height": null,
            "justify_content": null,
            "justify_items": null,
            "left": null,
            "margin": null,
            "max_height": null,
            "max_width": null,
            "min_height": null,
            "min_width": null,
            "object_fit": null,
            "object_position": null,
            "order": null,
            "overflow": null,
            "overflow_x": null,
            "overflow_y": null,
            "padding": null,
            "right": null,
            "top": null,
            "visibility": null,
            "width": null
          }
        },
        "a8e8bc02a2dc4dc19db6d664a96623ff": {
          "model_module": "@jupyter-widgets/base",
          "model_name": "LayoutModel",
          "model_module_version": "1.2.0",
          "state": {
            "_model_module": "@jupyter-widgets/base",
            "_model_module_version": "1.2.0",
            "_model_name": "LayoutModel",
            "_view_count": null,
            "_view_module": "@jupyter-widgets/base",
            "_view_module_version": "1.2.0",
            "_view_name": "LayoutView",
            "align_content": null,
            "align_items": null,
            "align_self": null,
            "border": null,
            "bottom": null,
            "display": null,
            "flex": null,
            "flex_flow": null,
            "grid_area": null,
            "grid_auto_columns": null,
            "grid_auto_flow": null,
            "grid_auto_rows": null,
            "grid_column": null,
            "grid_gap": null,
            "grid_row": null,
            "grid_template_areas": null,
            "grid_template_columns": null,
            "grid_template_rows": null,
            "height": null,
            "justify_content": null,
            "justify_items": null,
            "left": null,
            "margin": null,
            "max_height": null,
            "max_width": null,
            "min_height": null,
            "min_width": null,
            "object_fit": null,
            "object_position": null,
            "order": null,
            "overflow": null,
            "overflow_x": null,
            "overflow_y": null,
            "padding": null,
            "right": null,
            "top": null,
            "visibility": null,
            "width": null
          }
        },
        "35609e8f6e1d4aa9a4eb78fb0bcacd93": {
          "model_module": "@jupyter-widgets/controls",
          "model_name": "DescriptionStyleModel",
          "model_module_version": "1.5.0",
          "state": {
            "_model_module": "@jupyter-widgets/controls",
            "_model_module_version": "1.5.0",
            "_model_name": "DescriptionStyleModel",
            "_view_count": null,
            "_view_module": "@jupyter-widgets/base",
            "_view_module_version": "1.2.0",
            "_view_name": "StyleView",
            "description_width": ""
          }
        },
        "a62e58ff043c40409c8fc955f66a36f8": {
          "model_module": "@jupyter-widgets/base",
          "model_name": "LayoutModel",
          "model_module_version": "1.2.0",
          "state": {
            "_model_module": "@jupyter-widgets/base",
            "_model_module_version": "1.2.0",
            "_model_name": "LayoutModel",
            "_view_count": null,
            "_view_module": "@jupyter-widgets/base",
            "_view_module_version": "1.2.0",
            "_view_name": "LayoutView",
            "align_content": null,
            "align_items": null,
            "align_self": null,
            "border": null,
            "bottom": null,
            "display": null,
            "flex": null,
            "flex_flow": null,
            "grid_area": null,
            "grid_auto_columns": null,
            "grid_auto_flow": null,
            "grid_auto_rows": null,
            "grid_column": null,
            "grid_gap": null,
            "grid_row": null,
            "grid_template_areas": null,
            "grid_template_columns": null,
            "grid_template_rows": null,
            "height": null,
            "justify_content": null,
            "justify_items": null,
            "left": null,
            "margin": null,
            "max_height": null,
            "max_width": null,
            "min_height": null,
            "min_width": null,
            "object_fit": null,
            "object_position": null,
            "order": null,
            "overflow": null,
            "overflow_x": null,
            "overflow_y": null,
            "padding": null,
            "right": null,
            "top": null,
            "visibility": null,
            "width": null
          }
        },
        "295d6315ad77448fbbf41787fa917626": {
          "model_module": "@jupyter-widgets/controls",
          "model_name": "ProgressStyleModel",
          "model_module_version": "1.5.0",
          "state": {
            "_model_module": "@jupyter-widgets/controls",
            "_model_module_version": "1.5.0",
            "_model_name": "ProgressStyleModel",
            "_view_count": null,
            "_view_module": "@jupyter-widgets/base",
            "_view_module_version": "1.2.0",
            "_view_name": "StyleView",
            "bar_color": null,
            "description_width": ""
          }
        },
        "1898741a87924b09b66777ea2a32e971": {
          "model_module": "@jupyter-widgets/base",
          "model_name": "LayoutModel",
          "model_module_version": "1.2.0",
          "state": {
            "_model_module": "@jupyter-widgets/base",
            "_model_module_version": "1.2.0",
            "_model_name": "LayoutModel",
            "_view_count": null,
            "_view_module": "@jupyter-widgets/base",
            "_view_module_version": "1.2.0",
            "_view_name": "LayoutView",
            "align_content": null,
            "align_items": null,
            "align_self": null,
            "border": null,
            "bottom": null,
            "display": null,
            "flex": null,
            "flex_flow": null,
            "grid_area": null,
            "grid_auto_columns": null,
            "grid_auto_flow": null,
            "grid_auto_rows": null,
            "grid_column": null,
            "grid_gap": null,
            "grid_row": null,
            "grid_template_areas": null,
            "grid_template_columns": null,
            "grid_template_rows": null,
            "height": null,
            "justify_content": null,
            "justify_items": null,
            "left": null,
            "margin": null,
            "max_height": null,
            "max_width": null,
            "min_height": null,
            "min_width": null,
            "object_fit": null,
            "object_position": null,
            "order": null,
            "overflow": null,
            "overflow_x": null,
            "overflow_y": null,
            "padding": null,
            "right": null,
            "top": null,
            "visibility": null,
            "width": null
          }
        },
        "e29e33dab9db43598bfe270880390264": {
          "model_module": "@jupyter-widgets/controls",
          "model_name": "DescriptionStyleModel",
          "model_module_version": "1.5.0",
          "state": {
            "_model_module": "@jupyter-widgets/controls",
            "_model_module_version": "1.5.0",
            "_model_name": "DescriptionStyleModel",
            "_view_count": null,
            "_view_module": "@jupyter-widgets/base",
            "_view_module_version": "1.2.0",
            "_view_name": "StyleView",
            "description_width": ""
          }
        }
      }
    }
  },
  "cells": [
    {
      "cell_type": "code",
      "execution_count": null,
      "metadata": {
        "colab": {
          "base_uri": "https://localhost:8080/"
        },
        "id": "pQfKnj41sNLU",
        "outputId": "ec42bad7-b186-4628-fdb3-03c7ba752ff7"
      },
      "outputs": [
        {
          "output_type": "stream",
          "name": "stdout",
          "text": [
            "Populating the interactive namespace from numpy and matplotlib\n"
          ]
        }
      ],
      "source": [
        "%pylab inline\n",
        "import numpy as np\n",
        "import torch\n",
        "import torch.nn as nn\n",
        "import torch.nn.functional as F\n",
        "import torch.utils.data.dataloader as dataloader\n",
        "import torch.utils.data as Data\n",
        "import torch.optim as optim\n",
        "\n",
        "from torch.utils.data import TensorDataset\n",
        "from torch.autograd import Variable\n",
        "from torchvision import transforms\n",
        "from torchvision.datasets import MNIST\n"
      ]
    },
    {
      "cell_type": "code",
      "source": [
        "train = MNIST('./data', train=True, download=True, transform=transforms.Compose([\n",
        "    transforms.ToTensor(), # ToTensor does min-max normalization. \n",
        "]), )\n",
        "\n",
        "test = MNIST('./data', train=False, download=True, transform=transforms.Compose([\n",
        "    transforms.ToTensor(), # ToTensor does min-max normalization. \n",
        "]), )\n",
        "\n",
        "# Create DataLoader\n",
        "\n",
        "def get_indices(dataset,class_names):\n",
        "    indices =  []\n",
        "    for i in range(len(dataset.targets)):\n",
        "        if dataset.targets[i] in class_names: ## get class zero and one\n",
        "            indices.append(i)\n",
        "    return indices\n",
        "#selected_classes = [5,6]\n",
        "selected_classes = [0,1]\n",
        "train_idx = get_indices(train, selected_classes)\n",
        "test_idx = get_indices(test, selected_classes)\n",
        "\n",
        "\n",
        "dataloader_args = dict(shuffle=False, batch_size=64,num_workers=1, pin_memory=True)\n",
        "train_loader = dataloader.DataLoader(train, **dataloader_args, sampler = Data.sampler.SubsetRandomSampler(train_idx))\n",
        "test_loader = dataloader.DataLoader(test, **dataloader_args, sampler = Data.sampler.SubsetRandomSampler(test_idx))"
      ],
      "metadata": {
        "id": "4WDOb7f7sOUD",
        "colab": {
          "base_uri": "https://localhost:8080/",
          "height": 423,
          "referenced_widgets": [
            "94b775de43dd4aeb8288a5346942674d",
            "b9bbf59e03b74cecabae2a9fefdfa20c",
            "94bfeff30e9549979693084566c86448",
            "c4f930c47b2e496abe177d9ced05a274",
            "12c2701333704c03b548c613e7272630",
            "f437d96bf2a040239b0f79478a2b4c49",
            "f1bf313f4bea4189adde16e8c006e6d4",
            "c8ba30e99368465a958f113c13e3c87a",
            "7f6b00e4dcbb45dca4e4f53bff09705a",
            "a9c632d5f18146efb589a7d4d5d7f7c5",
            "7b00f79630f345cb95d66f30afdb125d",
            "733d1c75bec24e84a6a2e7610a37cbd3",
            "7c6d6bd1cfe54a859f4a9565e33ec9de",
            "5d5a5ed232a74f7599175ecdcbd63f31",
            "b41ab1751d1047b48d77e7838f96f013",
            "5016e73437084bb19bceb9bb9143ae4b",
            "619cbdb7b39d484b9b12662ffaa93a99",
            "7498ec9bee9a43fea2d9c75d3a3b66f7",
            "20f4642341574093859dfb80275c191c",
            "243fbc402aa9494dbe78c165d49dd989",
            "0760bf791e8e4488ae42869628f4566f",
            "7545266a13f8441e9b3543fe1aff51a1",
            "b3293e3652f14b9a8fdc6ca5ee193463",
            "635694902b164ca888cda63d62a4ea59",
            "828ebf406cf54ba4b29e2c75e4afee19",
            "edbfca620b1441448f2cd587e29d2fca",
            "8d5e999ecd0d46ea81ff3c4f326a3433",
            "2e325a4b099c468f87eb8463141a43cb",
            "6a034af5b14047498451256c6ed28d8a",
            "cbf45d2a122b458a9c0f2eb934a0a6d1",
            "6a30d922e02747c1a364fbd089ced163",
            "f0323ae5a70c4e6b8ed3d437966d835d",
            "02e8a546e55545058960fbb363768b28",
            "421495470c46419f83af61332f1033b8",
            "50be26a263a84cdcaef91f055b04646b",
            "d96f854b1a0c4cd8814e05b6a2b30922",
            "024b6dc8b2ef4489a85b9cfabe084319",
            "edc48f7e54ab496db8ddc995164d3dee",
            "a8e8bc02a2dc4dc19db6d664a96623ff",
            "35609e8f6e1d4aa9a4eb78fb0bcacd93",
            "a62e58ff043c40409c8fc955f66a36f8",
            "295d6315ad77448fbbf41787fa917626",
            "1898741a87924b09b66777ea2a32e971",
            "e29e33dab9db43598bfe270880390264"
          ]
        },
        "outputId": "c58d26e1-2013-4879-b7d8-b8f7a23a1f18"
      },
      "execution_count": null,
      "outputs": [
        {
          "output_type": "stream",
          "name": "stdout",
          "text": [
            "Downloading http://yann.lecun.com/exdb/mnist/train-images-idx3-ubyte.gz\n",
            "Downloading http://yann.lecun.com/exdb/mnist/train-images-idx3-ubyte.gz to ./data/MNIST/raw/train-images-idx3-ubyte.gz\n"
          ]
        },
        {
          "output_type": "display_data",
          "data": {
            "text/plain": [
              "  0%|          | 0/9912422 [00:00<?, ?it/s]"
            ],
            "application/vnd.jupyter.widget-view+json": {
              "version_major": 2,
              "version_minor": 0,
              "model_id": "94b775de43dd4aeb8288a5346942674d"
            }
          },
          "metadata": {}
        },
        {
          "output_type": "stream",
          "name": "stdout",
          "text": [
            "Extracting ./data/MNIST/raw/train-images-idx3-ubyte.gz to ./data/MNIST/raw\n",
            "\n",
            "Downloading http://yann.lecun.com/exdb/mnist/train-labels-idx1-ubyte.gz\n",
            "Downloading http://yann.lecun.com/exdb/mnist/train-labels-idx1-ubyte.gz to ./data/MNIST/raw/train-labels-idx1-ubyte.gz\n"
          ]
        },
        {
          "output_type": "display_data",
          "data": {
            "text/plain": [
              "  0%|          | 0/28881 [00:00<?, ?it/s]"
            ],
            "application/vnd.jupyter.widget-view+json": {
              "version_major": 2,
              "version_minor": 0,
              "model_id": "733d1c75bec24e84a6a2e7610a37cbd3"
            }
          },
          "metadata": {}
        },
        {
          "output_type": "stream",
          "name": "stdout",
          "text": [
            "Extracting ./data/MNIST/raw/train-labels-idx1-ubyte.gz to ./data/MNIST/raw\n",
            "\n",
            "Downloading http://yann.lecun.com/exdb/mnist/t10k-images-idx3-ubyte.gz\n",
            "Downloading http://yann.lecun.com/exdb/mnist/t10k-images-idx3-ubyte.gz to ./data/MNIST/raw/t10k-images-idx3-ubyte.gz\n"
          ]
        },
        {
          "output_type": "display_data",
          "data": {
            "text/plain": [
              "  0%|          | 0/1648877 [00:00<?, ?it/s]"
            ],
            "application/vnd.jupyter.widget-view+json": {
              "version_major": 2,
              "version_minor": 0,
              "model_id": "b3293e3652f14b9a8fdc6ca5ee193463"
            }
          },
          "metadata": {}
        },
        {
          "output_type": "stream",
          "name": "stdout",
          "text": [
            "Extracting ./data/MNIST/raw/t10k-images-idx3-ubyte.gz to ./data/MNIST/raw\n",
            "\n",
            "Downloading http://yann.lecun.com/exdb/mnist/t10k-labels-idx1-ubyte.gz\n",
            "Downloading http://yann.lecun.com/exdb/mnist/t10k-labels-idx1-ubyte.gz to ./data/MNIST/raw/t10k-labels-idx1-ubyte.gz\n"
          ]
        },
        {
          "output_type": "display_data",
          "data": {
            "text/plain": [
              "  0%|          | 0/4542 [00:00<?, ?it/s]"
            ],
            "application/vnd.jupyter.widget-view+json": {
              "version_major": 2,
              "version_minor": 0,
              "model_id": "421495470c46419f83af61332f1033b8"
            }
          },
          "metadata": {}
        },
        {
          "output_type": "stream",
          "name": "stdout",
          "text": [
            "Extracting ./data/MNIST/raw/t10k-labels-idx1-ubyte.gz to ./data/MNIST/raw\n",
            "\n"
          ]
        }
      ]
    },
    {
      "cell_type": "code",
      "source": [
        "train"
      ],
      "metadata": {
        "colab": {
          "base_uri": "https://localhost:8080/"
        },
        "id": "ArcaBQF4wPRV",
        "outputId": "ee297e00-f877-4dd6-d2a7-046082328e25"
      },
      "execution_count": null,
      "outputs": [
        {
          "output_type": "execute_result",
          "data": {
            "text/plain": [
              "Dataset MNIST\n",
              "    Number of datapoints: 60000\n",
              "    Root location: ./data\n",
              "    Split: Train\n",
              "    StandardTransform\n",
              "Transform: Compose(\n",
              "               ToTensor()\n",
              "           )"
            ]
          },
          "metadata": {},
          "execution_count": 402
        }
      ]
    },
    {
      "cell_type": "code",
      "source": [],
      "metadata": {
        "id": "gX9FkWRhvpu9"
      },
      "execution_count": null,
      "outputs": []
    },
    {
      "cell_type": "code",
      "source": [
        "#train_data = train.train_data\n",
        "#train_data = train.transform(train_data.numpy())\n",
        "#\n",
        "#print('[Train]')\n",
        "#print(' - Numpy Shape:', train.train_data.cpu().numpy().shape)\n",
        "#print(' - Tensor Shape:', train.train_data.size())\n",
        "#print(' - Transformed Shape:', train_data.size())\n",
        "#print(' - min:', torch.min(train_data))\n",
        "#print(' - max:', torch.max(train_data))\n",
        "#print(' - mean:', torch.mean(train_data))\n",
        "#print(' - std:', torch.std(train_data))\n",
        "#print(' - var:', torch.var(train_data))"
      ],
      "metadata": {
        "id": "cGIN3RhisRHS"
      },
      "execution_count": null,
      "outputs": []
    },
    {
      "cell_type": "code",
      "source": [
        "class Model(nn.Module):\n",
        "    def __init__(self):\n",
        "        super(Model, self).__init__()\n",
        "        \n",
        "        self.fc1 = nn.Linear(784, 548)\n",
        "        #self.bc1 = nn.BatchNorm1d(548)\n",
        "        #self.fc2 = nn.Linear(548, 252)\n",
        "        #self.bc2 = nn.BatchNorm1d(252)\n",
        "        #self.fc3 = nn.Linear(252, 10)\n",
        "        self.fc2 = nn.Linear(548, 1)\n",
        "        \n",
        "        \n",
        "    def forward(self, x):\n",
        "        x = x.view((-1, 784))\n",
        "        h = self.fc1(x)\n",
        "        #h = self.bc1(h)\n",
        "        #h = F.relu(h)\n",
        "        h = F.sigmoid(h)\n",
        "        #h = F.dropout(h, p=0.5, training=self.training)\n",
        "        h = self.fc2(h)\n",
        "        #h = self.bc2(h)\n",
        "        #h = F.relu(h)\n",
        "        #h = F.sigmoid(h)\n",
        "        #h = F.dropout(h, p=0.2, training=self.training)\n",
        "        #h = self.fc3(h)\n",
        "        #out = F.log_softmax(h)\n",
        "        out = h\n",
        "        return out\n",
        "\n",
        "model = Model()\n",
        "model.cuda() # CUDA!\n",
        "optimizer = optim.Adam(model.parameters(), lr=0.001)\n",
        "#optimizer = optim.SGD(model.parameters(), lr=0.05, momentum=0.9, weight_decay=1e-4)\n",
        "criterion = nn.BCEWithLogitsLoss() ### sigmoid cross entropy..."
      ],
      "metadata": {
        "id": "szmnvxhjsTOM"
      },
      "execution_count": null,
      "outputs": []
    },
    {
      "cell_type": "code",
      "source": [
        "#F.one_hot( target , 2)\n",
        "#target"
      ],
      "metadata": {
        "id": "r8QMmlsEtxez"
      },
      "execution_count": null,
      "outputs": []
    },
    {
      "cell_type": "code",
      "source": [
        "#target\n",
        "#y_pred"
      ],
      "metadata": {
        "id": "l1QJIE42zCKS"
      },
      "execution_count": null,
      "outputs": []
    },
    {
      "cell_type": "code",
      "source": [
        "model.train()\n",
        "\n",
        "losses = []\n",
        "for epoch in range(1):\n",
        "    for batch_idx, (data, target) in enumerate(train_loader):\n",
        "        # Get Samples\n",
        "        data = Variable(data.view(-1,784))\n",
        "        sample_data = data.bernoulli()\n",
        "        data, target = Variable(sample_data.cuda()), Variable(target.cuda())\n",
        "        \n",
        "        # Init\n",
        "        optimizer.zero_grad()\n",
        "\n",
        "        # Predict\n",
        "        y_pred = model(data) \n",
        "\n",
        "        target = (target == selected_classes[1])*1\n",
        "        target = target.unsqueeze(1).float()\n",
        "\n",
        "        with torch.no_grad():\n",
        "            model_weight <- model_weights\n",
        "            otherloss = ...\n",
        "\n",
        "        # Calculate loss\n",
        "        #target_one_hot = F.one_hot( target , 10)\n",
        "        #loss = F.cross_entropy(y_pred, target_one_hot)\n",
        "        loss = criterion(y_pred, target)\n",
        "        losses.append(loss.data.item())\n",
        "        # Backpropagation\n",
        "        loss.backward()\n",
        "        optimizer.step()\n",
        "        \n",
        "        # Display\n",
        "        if batch_idx % 100 == 1:\n",
        "            print('\\r Train Epoch: {} [{}/{} ({:.0f}%)]\\tLoss: {:.6f}'.format(\n",
        "                epoch, \n",
        "                batch_idx * len(data), \n",
        "                len(train_loader.dataset),\n",
        "                100. * batch_idx / len(train_loader), \n",
        "                loss.data.item()), \n",
        "                end='')\n",
        "            \n",
        "    print()"
      ],
      "metadata": {
        "colab": {
          "base_uri": "https://localhost:8080/"
        },
        "id": "toqg0u-WsXuc",
        "outputId": "b5e56382-94aa-4881-e6c6-dea6dda082b5"
      },
      "execution_count": null,
      "outputs": [
        {
          "output_type": "stream",
          "name": "stdout",
          "text": [
            " Train Epoch: 0 [6464/60000 (51%)]\tLoss: 0.002799\n"
          ]
        }
      ]
    },
    {
      "cell_type": "code",
      "source": [
        "plot(losses)\n"
      ],
      "metadata": {
        "colab": {
          "base_uri": "https://localhost:8080/",
          "height": 283
        },
        "id": "r80Falvnsnj4",
        "outputId": "a1380195-4a7e-4fd1-e478-84522106fd5f"
      },
      "execution_count": null,
      "outputs": [
        {
          "output_type": "execute_result",
          "data": {
            "text/plain": [
              "[<matplotlib.lines.Line2D at 0x7ffa00a1f850>]"
            ]
          },
          "metadata": {},
          "execution_count": 66
        },
        {
          "output_type": "display_data",
          "data": {
            "text/plain": [
              "<Figure size 432x288 with 1 Axes>"
            ],
            "image/png": "[encoded data removed]"
          },
          "metadata": {
            "needs_background": "light"
          }
        }
      ]
    },
    {
      "cell_type": "code",
      "source": [
        "evaluate_x = Variable(test_loader.dataset.test_data.type_as(torch.FloatTensor())).cuda()[test_idx]\n",
        "evaluate_y = Variable(test_loader.dataset.test_labels).cuda()[test_idx]\n",
        "\n",
        "\n",
        "output = model(evaluate_x)\n",
        "pred = ((output.data > 0)*1.).squeeze()\n",
        "d = pred.eq((evaluate_y.data == selected_classes[1])*1).cpu()\n",
        "accuracy = d.sum()/d.size()[0]\n",
        "\n",
        "print('Accuracy:', accuracy)"
      ],
      "metadata": {
        "colab": {
          "base_uri": "https://localhost:8080/"
        },
        "id": "SSnrnM3tsqE-",
        "outputId": "b437c5cb-1a67-4786-f8fb-65e637e57aa5"
      },
      "execution_count": null,
      "outputs": [
        {
          "output_type": "stream",
          "name": "stdout",
          "text": [
            "Accuracy: tensor(0.9986)\n"
          ]
        }
      ]
    },
    {
      "cell_type": "code",
      "source": [],
      "metadata": {
        "id": "cJJlEn8g5Ato"
      },
      "execution_count": null,
      "outputs": []
    },
    {
      "cell_type": "code",
      "source": [
        "#Variable(train_loader.dataset.train_data.type_as(torch.FloatTensor())).cuda().shape\n",
        "#Variable(train_loader.dataset.test_labels).cuda()\n",
        "#test_loader.dataset.test_labels[test_idx]\n",
        "#pred.squeeze()"
      ],
      "metadata": {
        "id": "keYdJzHNssKN"
      },
      "execution_count": null,
      "outputs": []
    },
    {
      "cell_type": "code",
      "source": [
        "#test_idx[0]"
      ],
      "metadata": {
        "id": "f5D3qYID102b"
      },
      "execution_count": null,
      "outputs": []
    },
    {
      "cell_type": "code",
      "source": [
        "model.fc1.weight.max()"
      ],
      "metadata": {
        "colab": {
          "base_uri": "https://localhost:8080/"
        },
        "id": "bftZ28tI3Qby",
        "outputId": "f8185f0a-fcd1-4fee-f055-b0a67ac8c40a"
      },
      "execution_count": null,
      "outputs": [
        {
          "output_type": "execute_result",
          "data": {
            "text/plain": [
              "tensor(0.1302, device='cuda:0', grad_fn=<MaxBackward1>)"
            ]
          },
          "metadata": {},
          "execution_count": 412
        }
      ]
    },
    {
      "cell_type": "code",
      "source": [
        "model.fc1.weight.min()"
      ],
      "metadata": {
        "colab": {
          "base_uri": "https://localhost:8080/"
        },
        "id": "SApz2JDV4DpH",
        "outputId": "7eaec594-1d97-4221-b985-e68c49f30b65"
      },
      "execution_count": null,
      "outputs": [
        {
          "output_type": "execute_result",
          "data": {
            "text/plain": [
              "tensor(-0.1244, device='cuda:0', grad_fn=<MinBackward1>)"
            ]
          },
          "metadata": {},
          "execution_count": 413
        }
      ]
    },
    {
      "cell_type": "code",
      "source": [
        "model.fc1.bias.max()"
      ],
      "metadata": {
        "colab": {
          "base_uri": "https://localhost:8080/"
        },
        "id": "4qM6T5vR6pkp",
        "outputId": "d2bafbe0-9323-4b14-dcc4-0aa1b1ee1ef8"
      },
      "execution_count": null,
      "outputs": [
        {
          "output_type": "execute_result",
          "data": {
            "text/plain": [
              "tensor(0.0818, device='cuda:0', grad_fn=<MaxBackward1>)"
            ]
          },
          "metadata": {},
          "execution_count": 414
        }
      ]
    },
    {
      "cell_type": "code",
      "source": [
        "model.fc1.bias.min()"
      ],
      "metadata": {
        "colab": {
          "base_uri": "https://localhost:8080/"
        },
        "id": "9S_TDkus6ssc",
        "outputId": "d05192dc-580b-4695-9943-d668ea0f3371"
      },
      "execution_count": null,
      "outputs": [
        {
          "output_type": "execute_result",
          "data": {
            "text/plain": [
              "tensor(-0.0930, device='cuda:0', grad_fn=<MinBackward1>)"
            ]
          },
          "metadata": {},
          "execution_count": 415
        }
      ]
    },
    {
      "cell_type": "code",
      "source": [
        "model.fc2.weight.max()"
      ],
      "metadata": {
        "colab": {
          "base_uri": "https://localhost:8080/"
        },
        "id": "UAeVSyc76xxV",
        "outputId": "a61a0617-cedc-422e-a5ba-6d76a10fa40c"
      },
      "execution_count": null,
      "outputs": [
        {
          "output_type": "execute_result",
          "data": {
            "text/plain": [
              "tensor(0.0793, device='cuda:0', grad_fn=<MaxBackward1>)"
            ]
          },
          "metadata": {},
          "execution_count": 416
        }
      ]
    },
    {
      "cell_type": "code",
      "source": [
        "model.fc2.weight.min()"
      ],
      "metadata": {
        "colab": {
          "base_uri": "https://localhost:8080/"
        },
        "id": "5m9OA41z614C",
        "outputId": "a8df340b-db83-4e78-8c70-d94605aa6c1f"
      },
      "execution_count": null,
      "outputs": [
        {
          "output_type": "execute_result",
          "data": {
            "text/plain": [
              "tensor(-0.0652, device='cuda:0', grad_fn=<MinBackward1>)"
            ]
          },
          "metadata": {},
          "execution_count": 417
        }
      ]
    },
    {
      "cell_type": "code",
      "source": [
        "# Frances\n",
        "class Energy_Based_Model(nn.Module):\n",
        "   def __init__(self,\n",
        "               n_vis=784 + 1, ## one extra for the output\n",
        "               n_hin=548,\n",
        "               k=5):\n",
        "        super(Energy_Based_Model, self).__init__()\n",
        "        self.W = nn.Parameter(torch.randn(n_hin,n_vis)*1e-2)\n",
        "        self.v_bias = nn.Parameter(torch.zeros(n_vis))\n",
        "        self.h_bias = nn.Parameter(torch.zeros(n_hin))\n",
        "        self.n_vis = n_vis \n",
        "        self.k = k\n",
        "    \n",
        "   def sample_from_p(self,p):\n",
        "       return F.relu(torch.sign(p - Variable(torch.rand(p.size()))))\n",
        "    \n",
        "   def v_to_h(self,v):\n",
        "        p_h = F.sigmoid(F.linear(v,self.W,self.h_bias))\n",
        "        sample_h = self.sample_from_p(p_h)\n",
        "        return p_h,sample_h\n",
        "    \n",
        "   ## not necessary\n",
        "   def h_to_v(self,h):\n",
        "        p_v = F.sigmoid(F.linear(h,self.W.t(),self.v_bias))\n",
        "        sample_v = self.sample_from_p(p_v)\n",
        "        return p_v,sample_v\n",
        "\n",
        "   def h_to_out(self,h):\n",
        "        p_out = F.sigmoid(F.linear(h,self.W.t()[-1:],self.v_bias[-1:]))\n",
        "        sample_out = self.sample_from_p(p_out)\n",
        "        return p_out,sample_out\n",
        "        \n",
        "   def forward(self,input_data):\n",
        "        #v = torch.zeros( self.n_vis ) \n",
        "        #v[:-1] = input_data\n",
        "        #v[-1] = 0.5\n",
        "        v = input_data ## it includes output logit\n",
        "        pre_h1,h1 = self.v_to_h(v)\n",
        "        h_ = h1\n",
        "        v_ = v\n",
        "        for _ in range(self.k):\n",
        "            pre_out,out_ = self.h_to_out(h_)\n",
        "            v_[:,-1:] = out_\n",
        "            pre_h_,h_ = self.v_to_h(v_)\n",
        "        \n",
        "        return v,v_\n",
        "\n",
        "   def sample_from_distribution(self):\n",
        "       v = Variable(torch.rand((100, self.n_vis)))\n",
        "       for i in range(1000):\n",
        "           pre_h,h = self.v_to_h(v)\n",
        "           pre_v,v = self.h_to_v(h)\n",
        "       return v\n",
        "\n",
        "\n",
        "   #def free_energy(self,v):\n",
        "   #     vbias_term = v.mv(self.v_bias)\n",
        "   #     wx_b = F.linear(v,self.W,self.h_bias)\n",
        "   #     hidden_term = wx_b.exp().add(1).log().sum(1)\n",
        "   #     return (-hidden_term - vbias_term).mean()\n",
        "\n",
        "\n",
        "\n",
        "\n"
      ],
      "metadata": {
        "id": "ukVC3nayyiVf"
      },
      "execution_count": null,
      "outputs": []
    },
    {
      "cell_type": "code",
      "source": [
        "\n",
        "class Energy_Based_Model(nn.Module):\n",
        "   def __init__(self,\n",
        "               n_vis=784 + 1, ## one extra for the output\n",
        "               n_hin=548,\n",
        "               k=5):\n",
        "        super(Energy_Based_Model, self).__init__()\n",
        "        self.W = nn.Parameter(torch.randn(n_hin,n_vis)*1e-2)\n",
        "        self.v_bias = nn.Parameter(torch.zeros(n_vis))\n",
        "        self.h_bias = nn.Parameter(torch.zeros(n_hin))\n",
        "        self.n_vis = n_vis \n",
        "        self.k = k\n",
        "    \n",
        "   def sample_from_p(self,p):\n",
        "       return F.relu(torch.sign(p - Variable(torch.rand(p.size()))))\n",
        "    \n",
        "   def v_to_h(self,v):\n",
        "        p_h = F.sigmoid(F.linear(v,self.W,self.h_bias))\n",
        "        sample_h = self.sample_from_p(p_h)\n",
        "        return p_h,sample_h\n",
        "    \n",
        "   ## not necessary\n",
        "   def h_to_v(self,h):\n",
        "        p_v = F.sigmoid(F.linear(h,self.W.t(),self.v_bias))\n",
        "        sample_v = self.sample_from_p(p_v)\n",
        "        return p_v,sample_v\n",
        "\n",
        "   def h_to_out(self,h):\n",
        "        p_out = F.sigmoid(F.linear(h,self.W.t()[-1:],self.v_bias[-1:]))\n",
        "        sample_out = self.sample_from_p(p_out)\n",
        "        return p_out,sample_out\n",
        "        \n",
        "   def forward(self,input_data):\n",
        "        #v = torch.zeros( self.n_vis ) \n",
        "        #v[:-1] = input_data\n",
        "        #v[-1] = 0.5\n",
        "        v = input_data ## it includes output logit\n",
        "        pre_h1,h1 = self.v_to_h(v)\n",
        "        h_ = h1\n",
        "        v_ = v\n",
        "        for _ in range(self.k):\n",
        "            pre_out,out_ = self.h_to_out(h_)\n",
        "            #v_[:,-1:] = out_\n",
        "            #v_[:,-1:].copy_( out_ )\n",
        "            #v_[:, :-1] = v_[:, :-1]\n",
        "\n",
        "            v__ = torch.cat( ( v_[:,:-1], out_) , 1)\n",
        "            pre_h_,h_ = self.v_to_h(v__)\n",
        "            v_ = v__\n",
        "        return v,v_\n",
        "\n",
        "   def sample_from_distribution(self):\n",
        "       v = Variable(torch.rand((100, self.n_vis)))\n",
        "       for i in range(1000):\n",
        "           pre_h,h = self.v_to_h(v)\n",
        "           pre_v,v = self.h_to_v(h)\n",
        "       return v\n",
        "\n",
        "\n",
        "   def free_energy(self,v):\n",
        "        vbias_term = v.mv(self.v_bias)\n",
        "        wx_b = F.linear(v,self.W,self.h_bias)\n",
        "        hidden_term = wx_b.exp().add(1).log().sum(1)\n",
        "        return (-hidden_term - vbias_term).mean()\n",
        "\n",
        "\n",
        "\n",
        "\n"
      ],
      "metadata": {
        "id": "uBRkBfs764PK"
      },
      "execution_count": null,
      "outputs": []
    },
    {
      "cell_type": "code",
      "source": [
        "for epoch in range(1):\n",
        "    for batch_idx, (data, target) in enumerate(train_loader):\n",
        "        # Get Samples\n",
        "        data, target = Variable(data.cuda()), Variable(target.cuda())\n",
        "        data = Variable(data.view(-1,784))\n",
        "        sample_data = data.bernoulli()\n",
        "        v = torch.cat( (sample_data, Variable(target.unsqueeze(1))), 1)"
      ],
      "metadata": {
        "id": "NIFeRPTp510f"
      },
      "execution_count": null,
      "outputs": []
    },
    {
      "cell_type": "code",
      "source": [],
      "metadata": {
        "id": "dghyL6Dp6Cdx"
      },
      "execution_count": null,
      "outputs": []
    },
    {
      "cell_type": "code",
      "source": [
        "energy_based_model = Energy_Based_Model(k=20)\n",
        "\n",
        "## load the feedforward model in the energy model\n",
        "with torch.no_grad():\n",
        "    energy_based_model.W.copy_( torch.cat( (model.fc1.weight, model.fc2.weight.t()),1) )\n",
        "    energy_based_model.h_bias.copy_( model.fc1.bias )\n",
        "    energy_based_model.v_bias[-1:].copy_( model.fc2.bias )"
      ],
      "metadata": {
        "id": "Qy7ahYakAy9L"
      },
      "execution_count": null,
      "outputs": []
    },
    {
      "cell_type": "code",
      "source": [],
      "metadata": {
        "id": "deGKo_RvqsV5"
      },
      "execution_count": null,
      "outputs": []
    },
    {
      "cell_type": "code",
      "source": [
        "energy_based_model.W.shape"
      ],
      "metadata": {
        "colab": {
          "base_uri": "https://localhost:8080/"
        },
        "id": "KUrtQ4GElYTR",
        "outputId": "1497061b-ce51-4318-d10c-92aa5ec915a2"
      },
      "execution_count": null,
      "outputs": [
        {
          "output_type": "execute_result",
          "data": {
            "text/plain": [
              "torch.Size([548, 785])"
            ]
          },
          "metadata": {},
          "execution_count": 449
        }
      ]
    },
    {
      "cell_type": "code",
      "source": [
        "model.fc1.weight.shape"
      ],
      "metadata": {
        "colab": {
          "base_uri": "https://localhost:8080/"
        },
        "id": "L5Tc8Ywulo94",
        "outputId": "8ffe97ce-c49d-4fde-97cf-02fa07482c27"
      },
      "execution_count": null,
      "outputs": [
        {
          "output_type": "execute_result",
          "data": {
            "text/plain": [
              "torch.Size([548, 784])"
            ]
          },
          "metadata": {},
          "execution_count": 450
        }
      ]
    },
    {
      "cell_type": "code",
      "source": [
        "torch.cat( (model.fc1.weight, model.fc2.weight.t()),1).shape"
      ],
      "metadata": {
        "colab": {
          "base_uri": "https://localhost:8080/"
        },
        "id": "TSrd9YdemERv",
        "outputId": "2f9c7345-2edc-4146-e608-306b10e32488"
      },
      "execution_count": null,
      "outputs": [
        {
          "output_type": "execute_result",
          "data": {
            "text/plain": [
              "torch.Size([548, 785])"
            ]
          },
          "metadata": {},
          "execution_count": 451
        }
      ]
    },
    {
      "cell_type": "code",
      "source": [
        "energy_based_model.v_bias.shape"
      ],
      "metadata": {
        "colab": {
          "base_uri": "https://localhost:8080/"
        },
        "id": "NC8hKy9ylfSq",
        "outputId": "a6562751-b22f-468a-e66d-010d3153a586"
      },
      "execution_count": null,
      "outputs": [
        {
          "output_type": "execute_result",
          "data": {
            "text/plain": [
              "torch.Size([785])"
            ]
          },
          "metadata": {},
          "execution_count": 452
        }
      ]
    },
    {
      "cell_type": "code",
      "source": [
        "energy_based_model.h_bias.shape"
      ],
      "metadata": {
        "colab": {
          "base_uri": "https://localhost:8080/"
        },
        "id": "00gT0iZYlk2I",
        "outputId": "7e156d52-2458-4f8f-f441-86c9b5a3e93e"
      },
      "execution_count": null,
      "outputs": [
        {
          "output_type": "execute_result",
          "data": {
            "text/plain": [
              "torch.Size([548])"
            ]
          },
          "metadata": {},
          "execution_count": 453
        }
      ]
    },
    {
      "cell_type": "code",
      "source": [
        "model.fc1.bias.shape"
      ],
      "metadata": {
        "colab": {
          "base_uri": "https://localhost:8080/"
        },
        "id": "n9Y4S-tImlmg",
        "outputId": "c8f531d5-8580-4094-a03d-0a94f420dc76"
      },
      "execution_count": null,
      "outputs": [
        {
          "output_type": "execute_result",
          "data": {
            "text/plain": [
              "torch.Size([548])"
            ]
          },
          "metadata": {},
          "execution_count": 454
        }
      ]
    },
    {
      "cell_type": "code",
      "source": [
        "data.shape[0]\n"
      ],
      "metadata": {
        "colab": {
          "base_uri": "https://localhost:8080/"
        },
        "id": "uGpEznLNjoiG",
        "outputId": "6fa6d705-970d-49d8-9c8c-0da3124e937b"
      },
      "execution_count": null,
      "outputs": [
        {
          "output_type": "execute_result",
          "data": {
            "text/plain": [
              "57"
            ]
          },
          "metadata": {},
          "execution_count": 455
        }
      ]
    },
    {
      "cell_type": "code",
      "source": [
        "energy_based_model = Energy_Based_Model(k=10)"
      ],
      "metadata": {
        "id": "l85xUbu2qs4C"
      },
      "execution_count": null,
      "outputs": []
    },
    {
      "cell_type": "code",
      "source": [
        "energy_based_model.W"
      ],
      "metadata": {
        "colab": {
          "base_uri": "https://localhost:8080/"
        },
        "id": "VCccdb5tASxI",
        "outputId": "8b58a677-854a-4a82-f493-76bcaaff33ce"
      },
      "execution_count": null,
      "outputs": [
        {
          "output_type": "execute_result",
          "data": {
            "text/plain": [
              "Parameter containing:\n",
              "tensor([[ 0.0041,  0.0147,  0.0041,  ..., -0.0092, -0.0085, -0.0302],\n",
              "        [ 0.0009,  0.0046,  0.0129,  ...,  0.0051,  0.0056, -0.0255],\n",
              "        [ 0.0049, -0.0064, -0.0115,  ...,  0.0040, -0.0012, -0.0331],\n",
              "        ...,\n",
              "        [-0.0131,  0.0065,  0.0037,  ..., -0.0100, -0.0162,  0.0469],\n",
              "        [-0.0051, -0.0171,  0.0098,  ..., -0.0067,  0.0053, -0.0211],\n",
              "        [ 0.0060, -0.0066, -0.0027,  ..., -0.0037, -0.0041, -0.0248]],\n",
              "       requires_grad=True)"
            ]
          },
          "metadata": {},
          "execution_count": 70
        }
      ]
    },
    {
      "cell_type": "code",
      "source": [
        "energy_based_model.W.max()"
      ],
      "metadata": {
        "colab": {
          "base_uri": "https://localhost:8080/"
        },
        "id": "FmTySfvt2VW7",
        "outputId": "3402791b-7f3c-447a-c380-97de8d15729e"
      },
      "execution_count": null,
      "outputs": [
        {
          "output_type": "execute_result",
          "data": {
            "text/plain": [
              "tensor(0.1138, grad_fn=<MaxBackward1>)"
            ]
          },
          "metadata": {},
          "execution_count": 71
        }
      ]
    },
    {
      "cell_type": "code",
      "source": [
        "# train energy based model\n",
        "energy_based_model = Energy_Based_Model(k=10)\n",
        "\n",
        "train_op = optim.Adam(energy_based_model.parameters(), lr=0.001)\n",
        "count = 0\n",
        "for epoch in range(1):\n",
        "    loss_ = []\n",
        "    for _, (data,target) in enumerate(train_loader):\n",
        "        data = Variable(data.view(-1,784))\n",
        "        sample_data = data.bernoulli()\n",
        "        v = torch.cat( (sample_data, Variable(target.unsqueeze(1))), 1)\n",
        "\n",
        "        dist = torch.empty(len(sample_data)).uniform_(0, 1)\n",
        "        sample_y = torch.bernoulli(dist)\n",
        "        # print(sample_data.size())\n",
        "        # print(sample_y)\n",
        "        vinit = torch.cat( (sample_data, sample_y.view(-1, 1)), 1)\n",
        "        _,v1 = energy_based_model(v)\n",
        "        #print(v,v1)\n",
        "\n",
        "        with torch.no_grad():\n",
        "            model_weight <- model_weights\n",
        "            otherloss = ...\n",
        "            \n",
        "\n",
        "        loss = energy_based_model.free_energy(v) - energy_based_model.free_energy(v1)\n",
        "        print(\"Training loss: {}\".format(loss.data))\n",
        "        loss_.append(loss.data)\n",
        "\n",
        "        # print(loss.data)\n",
        "        train_op.zero_grad()\n",
        "        loss.backward()\n",
        "        train_op.step()\n",
        "    #     break\n",
        "    # break\n",
        "\n",
        "    print(\"Training loss for {} epoch: {}\".format(epoch, np.mean(loss_)))\n"
      ],
      "metadata": {
        "id": "p6sHyJ8IoieX",
        "colab": {
          "base_uri": "https://localhost:8080/"
        },
        "outputId": "b492176d-3955-4b5e-ec9a-00ae1502edb4"
      },
      "execution_count": null,
      "outputs": [
        {
          "output_type": "stream",
          "name": "stdout",
          "text": [
            "Training loss: -0.001129150390625\n",
            "Training loss: -0.0250244140625\n",
            "Training loss: -0.0555419921875\n",
            "Training loss: -0.055267333984375\n",
            "Training loss: -0.109161376953125\n",
            "Training loss: -0.134429931640625\n",
            "Training loss: -0.1146240234375\n",
            "Training loss: -0.1561279296875\n",
            "Training loss: -0.176513671875\n",
            "Training loss: -0.2056884765625\n",
            "Training loss: -0.234893798828125\n",
            "Training loss: -0.2386474609375\n",
            "Training loss: -0.222503662109375\n",
            "Training loss: -0.300018310546875\n",
            "Training loss: -0.291961669921875\n",
            "Training loss: -0.25433349609375\n",
            "Training loss: -0.297027587890625\n",
            "Training loss: -0.3433837890625\n",
            "Training loss: -0.192901611328125\n",
            "Training loss: -0.288055419921875\n",
            "Training loss: -0.22027587890625\n",
            "Training loss: -0.13616943359375\n",
            "Training loss: -0.26788330078125\n",
            "Training loss: -0.119659423828125\n",
            "Training loss: -0.211273193359375\n",
            "Training loss: -0.33074951171875\n",
            "Training loss: -0.066436767578125\n",
            "Training loss: -0.187530517578125\n",
            "Training loss: -0.10723876953125\n",
            "Training loss: -0.10247802734375\n",
            "Training loss: -0.224853515625\n",
            "Training loss: -0.05499267578125\n",
            "Training loss: -0.025115966796875\n",
            "Training loss: -0.235931396484375\n",
            "Training loss: -0.31109619140625\n",
            "Training loss: -0.13238525390625\n",
            "Training loss: -0.1319580078125\n",
            "Training loss: -0.07489013671875\n",
            "Training loss: -0.0252685546875\n",
            "Training loss: -0.13055419921875\n",
            "Training loss: -0.268798828125\n",
            "Training loss: -0.10125732421875\n",
            "Training loss: -0.09356689453125\n",
            "Training loss: -0.0701904296875\n",
            "Training loss: 0.0\n",
            "Training loss: -0.25689697265625\n",
            "Training loss: -0.05633544921875\n",
            "Training loss: 0.000244140625\n",
            "Training loss: 0.0\n",
            "Training loss: 0.0\n",
            "Training loss: -0.1322021484375\n",
            "Training loss: -0.0858154296875\n",
            "Training loss: -0.0396728515625\n",
            "Training loss: -0.11663818359375\n",
            "Training loss: -0.33551025390625\n",
            "Training loss: 0.0\n",
            "Training loss: -0.04736328125\n",
            "Training loss: 0.0096435546875\n",
            "Training loss: -0.0142822265625\n",
            "Training loss: -0.01116943359375\n",
            "Training loss: -0.03863525390625\n",
            "Training loss: 0.0086669921875\n",
            "Training loss: -0.03607177734375\n",
            "Training loss: -0.00885009765625\n",
            "Training loss: -0.067138671875\n",
            "Training loss: 0.0\n",
            "Training loss: -0.06396484375\n",
            "Training loss: -0.17608642578125\n",
            "Training loss: -0.090087890625\n",
            "Training loss: 0.0\n",
            "Training loss: -0.05255126953125\n",
            "Training loss: -0.00091552734375\n",
            "Training loss: -0.07708740234375\n",
            "Training loss: 0.0\n",
            "Training loss: 0.0\n",
            "Training loss: -0.005126953125\n",
            "Training loss: 0.0\n",
            "Training loss: 0.03704833984375\n",
            "Training loss: -0.0487060546875\n",
            "Training loss: 0.0\n",
            "Training loss: 0.0\n",
            "Training loss: -0.15399169921875\n",
            "Training loss: -0.0404052734375\n",
            "Training loss: 0.0\n",
            "Training loss: 0.0\n",
            "Training loss: -0.01123046875\n",
            "Training loss: -0.15185546875\n",
            "Training loss: 0.0\n",
            "Training loss: -0.08148193359375\n",
            "Training loss: 0.0\n",
            "Training loss: 0.0\n",
            "Training loss: -0.1201171875\n",
            "Training loss: 0.0\n",
            "Training loss: 0.0\n",
            "Training loss: -0.0904541015625\n",
            "Training loss: -0.12518310546875\n",
            "Training loss: -0.05755615234375\n",
            "Training loss: 0.0\n",
            "Training loss: 0.00518798828125\n",
            "Training loss: 0.0096435546875\n",
            "Training loss: -0.026123046875\n",
            "Training loss: 0.0\n",
            "Training loss: -0.0230712890625\n",
            "Training loss: 0.0\n",
            "Training loss: -0.0565185546875\n",
            "Training loss: 0.0\n",
            "Training loss: 0.0\n",
            "Training loss: 0.0\n",
            "Training loss: 0.0521240234375\n",
            "Training loss: 0.00494384765625\n",
            "Training loss: -0.09979248046875\n",
            "Training loss: 0.0\n",
            "Training loss: 0.0\n",
            "Training loss: 0.0\n",
            "Training loss: -0.04705810546875\n",
            "Training loss: 0.0264892578125\n",
            "Training loss: 0.0\n",
            "Training loss: 0.0\n",
            "Training loss: 0.0462646484375\n",
            "Training loss: 0.0\n",
            "Training loss: 0.0\n",
            "Training loss: 0.0\n",
            "Training loss: 0.0\n",
            "Training loss: 0.00457763671875\n",
            "Training loss: 0.029296875\n",
            "Training loss: 0.0\n",
            "Training loss: 0.0\n",
            "Training loss: 0.0\n",
            "Training loss: -0.06982421875\n",
            "Training loss: 0.0\n",
            "Training loss: -0.0865478515625\n",
            "Training loss: -0.11273193359375\n",
            "Training loss: -0.1024169921875\n",
            "Training loss: -0.0369873046875\n",
            "Training loss: 0.0\n",
            "Training loss: 0.0\n",
            "Training loss: 0.0\n",
            "Training loss: 0.06585693359375\n",
            "Training loss: -0.0374755859375\n",
            "Training loss: 0.0\n",
            "Training loss: 0.02178955078125\n",
            "Training loss: 0.0\n",
            "Training loss: 0.0\n",
            "Training loss: -0.017822265625\n",
            "Training loss: 0.0\n",
            "Training loss: -0.080810546875\n",
            "Training loss: 0.0\n",
            "Training loss: 0.0\n",
            "Training loss: -0.07952880859375\n",
            "Training loss: 0.0\n",
            "Training loss: -0.1566162109375\n",
            "Training loss: 0.0\n",
            "Training loss: -0.02764892578125\n",
            "Training loss: -0.078369140625\n",
            "Training loss: 0.0\n",
            "Training loss: 0.0\n",
            "Training loss: -0.039794921875\n",
            "Training loss: 0.0\n",
            "Training loss: 0.0\n",
            "Training loss: 0.0\n",
            "Training loss: 0.0\n",
            "Training loss: 0.0\n",
            "Training loss: 0.0\n",
            "Training loss: 0.0\n",
            "Training loss: -0.0587158203125\n",
            "Training loss: 0.002685546875\n",
            "Training loss: 0.0\n",
            "Training loss: -0.107421875\n",
            "Training loss: 0.0\n",
            "Training loss: 0.0\n",
            "Training loss: -0.0789794921875\n",
            "Training loss: -0.01312255859375\n",
            "Training loss: 0.0\n",
            "Training loss: 0.0\n",
            "Training loss: 0.0\n",
            "Training loss: 0.0\n",
            "Training loss: -0.08514404296875\n",
            "Training loss: 0.0\n",
            "Training loss: 0.0\n",
            "Training loss: 0.0\n",
            "Training loss: 0.0\n",
            "Training loss: 0.0\n",
            "Training loss: -0.00408935546875\n",
            "Training loss: 0.0\n",
            "Training loss: -0.09613037109375\n",
            "Training loss: 0.0\n",
            "Training loss: 0.0\n",
            "Training loss: 0.0\n",
            "Training loss: 0.0196533203125\n",
            "Training loss: 0.0\n",
            "Training loss: 0.0\n",
            "Training loss: 0.0\n",
            "Training loss: 0.01214599609375\n",
            "Training loss: 0.0\n",
            "Training loss: -0.0177001953125\n",
            "Training loss: 0.0\n",
            "Training loss: 0.0\n",
            "Training loss: 0.0\n",
            "Training loss for 0 epoch: -0.05659269168972969\n"
          ]
        }
      ]
    },
    {
      "cell_type": "code",
      "source": [
        "energy_based_model.W.min()"
      ],
      "metadata": {
        "id": "qHGqDJk2P3Nj",
        "outputId": "5194b091-320f-4799-cc84-278c1479b649",
        "colab": {
          "base_uri": "https://localhost:8080/"
        }
      },
      "execution_count": null,
      "outputs": [
        {
          "output_type": "execute_result",
          "data": {
            "text/plain": [
              "tensor(-0.1083, grad_fn=<MinBackward1>)"
            ]
          },
          "metadata": {},
          "execution_count": 72
        }
      ]
    },
    {
      "cell_type": "code",
      "source": [
        "plot(loss_)"
      ],
      "metadata": {
        "colab": {
          "base_uri": "https://localhost:8080/",
          "height": 283
        },
        "id": "sxYhoSY2JrMy",
        "outputId": "7ca70224-e54f-4f61-ed10-bff02a6f0a1b"
      },
      "execution_count": null,
      "outputs": [
        {
          "output_type": "execute_result",
          "data": {
            "text/plain": [
              "[<matplotlib.lines.Line2D at 0x7ffa012cd8d0>]"
            ]
          },
          "metadata": {},
          "execution_count": 68
        },
        {
          "output_type": "display_data",
          "data": {
            "text/plain": [
              "<Figure size 432x288 with 1 Axes>"
            ],
            "image/png": "[encoded data removed]"
          },
          "metadata": {
            "needs_background": "light"
          }
        }
      ]
    },
    {
      "cell_type": "code",
      "source": [
        "print(list(zip(v[:,-1],\n",
        "v1[:,-1])))\n",
        "print(target)"
      ],
      "metadata": {
        "colab": {
          "base_uri": "https://localhost:8080/"
        },
        "id": "1zZJvP68BCqQ",
        "outputId": "1054382b-47fe-4a6c-9681-7508e9f2852d"
      },
      "execution_count": null,
      "outputs": [
        {
          "output_type": "stream",
          "name": "stdout",
          "text": [
            "[(tensor(1.), tensor(1.)), (tensor(1.), tensor(1.)), (tensor(1.), tensor(1.)), (tensor(1.), tensor(1.)), (tensor(0.), tensor(0.)), (tensor(1.), tensor(1.)), (tensor(0.), tensor(0.)), (tensor(0.), tensor(0.)), (tensor(1.), tensor(1.)), (tensor(1.), tensor(1.)), (tensor(1.), tensor(1.)), (tensor(1.), tensor(1.)), (tensor(1.), tensor(1.)), (tensor(1.), tensor(1.)), (tensor(1.), tensor(1.)), (tensor(1.), tensor(1.)), (tensor(0.), tensor(0.)), (tensor(1.), tensor(1.)), (tensor(0.), tensor(0.)), (tensor(0.), tensor(0.)), (tensor(0.), tensor(0.)), (tensor(1.), tensor(1.)), (tensor(1.), tensor(1.)), (tensor(0.), tensor(0.)), (tensor(0.), tensor(0.)), (tensor(1.), tensor(1.)), (tensor(1.), tensor(1.)), (tensor(1.), tensor(1.)), (tensor(0.), tensor(0.)), (tensor(0.), tensor(0.)), (tensor(0.), tensor(0.)), (tensor(0.), tensor(0.)), (tensor(1.), tensor(1.)), (tensor(1.), tensor(1.)), (tensor(0.), tensor(0.)), (tensor(0.), tensor(0.)), (tensor(1.), tensor(1.)), (tensor(1.), tensor(1.)), (tensor(1.), tensor(1.)), (tensor(0.), tensor(0.)), (tensor(0.), tensor(0.)), (tensor(0.), tensor(0.)), (tensor(1.), tensor(1.)), (tensor(0.), tensor(0.)), (tensor(1.), tensor(1.)), (tensor(0.), tensor(0.)), (tensor(0.), tensor(0.)), (tensor(1.), tensor(1.)), (tensor(0.), tensor(0.)), (tensor(1.), tensor(1.)), (tensor(1.), tensor(1.)), (tensor(0.), tensor(0.)), (tensor(1.), tensor(1.)), (tensor(0.), tensor(0.)), (tensor(0.), tensor(0.)), (tensor(1.), tensor(1.)), (tensor(0.), tensor(0.)), (tensor(0.), tensor(0.)), (tensor(1.), tensor(1.)), (tensor(1.), tensor(1.)), (tensor(0.), tensor(0.)), (tensor(1.), tensor(1.)), (tensor(0.), tensor(0.)), (tensor(0.), tensor(0.))]\n",
            "tensor([1, 1, 1, 1, 0, 1, 0, 0, 1, 1, 1, 1, 1, 1, 1, 1, 0, 1, 0, 0, 0, 1, 1, 0,\n",
            "        0, 1, 1, 1, 0, 0, 0, 0, 1, 1, 0, 0, 1, 1, 1, 0, 0, 0, 1, 0, 1, 0, 0, 1,\n",
            "        0, 1, 1, 0, 1, 0, 0, 1, 0, 0, 1, 1, 0, 1, 0, 0])\n"
          ]
        }
      ]
    },
    {
      "cell_type": "code",
      "source": [
        "target.shape"
      ],
      "metadata": {
        "colab": {
          "base_uri": "https://localhost:8080/"
        },
        "id": "bZ1bOS9Z0Hif",
        "outputId": "20e989c5-3a14-476d-c289-cb6ab0ee5d6c"
      },
      "execution_count": null,
      "outputs": [
        {
          "output_type": "execute_result",
          "data": {
            "text/plain": [
              "torch.Size([57])"
            ]
          },
          "metadata": {},
          "execution_count": 474
        }
      ]
    },
    {
      "cell_type": "code",
      "source": [
        "#Evaluate trained energy based model\n",
        "\n",
        "for epoch in range(1):\n",
        "\n",
        "    correct = 0\n",
        "    images = 0\n",
        "    for _, (data,target) in enumerate(test_loader):\n",
        "        data = Variable(data.view(-1,784))\n",
        "        sample_data = data.bernoulli()\n",
        "        v = torch.cat( (sample_data, torch.zeros( (data.shape[0],1))), 1)\n",
        "        prob_v,v = energy_based_model(v)\n",
        "        #print(list(zip(target, v[:,-1]) ))\n",
        "\n",
        "        for i in zip(target,v[:,-1]):\n",
        "\n",
        "            if i[0] == selected_classes[int(i[1].data.item())]:\n",
        "                correct+=1\n",
        "            images+=1\n",
        "    print(correct/images)\n",
        "        #plt.imshow(sample_data[0])\n",
        "\n"
      ],
      "metadata": {
        "colab": {
          "base_uri": "https://localhost:8080/"
        },
        "id": "zm0w7qacDKM1",
        "outputId": "ac6d1a19-d792-4e08-8370-fbdd325a555c"
      },
      "execution_count": null,
      "outputs": [
        {
          "output_type": "stream",
          "name": "stderr",
          "text": [
            "/usr/local/lib/python3.7/dist-packages/torch/nn/functional.py:1960: UserWarning: nn.functional.sigmoid is deprecated. Use torch.sigmoid instead.\n",
            "  warnings.warn(\"nn.functional.sigmoid is deprecated. Use torch.sigmoid instead.\")\n"
          ]
        },
        {
          "output_type": "stream",
          "name": "stdout",
          "text": [
            "0.9938534278959811\n"
          ]
        }
      ]
    },
    {
      "cell_type": "code",
      "source": [
        "out_samples = energy_based_model.sample_from_distribution()"
      ],
      "metadata": {
        "id": "aitpTKm1ssY2"
      },
      "execution_count": null,
      "outputs": []
    },
    {
      "cell_type": "code",
      "source": [
        "for i in range(out_samples.shape[0]):\n",
        "    plt.imshow(out_samples[i][:-1].detach().numpy().reshape((28,28)))\n",
        "    plt.show()"
      ],
      "metadata": {
        "id": "hBEPJP4HtWxk"
      },
      "execution_count": null,
      "outputs": []
    },
    {
      "cell_type": "code",
      "source": [
        "#plt.imshow(data.bernoulli()[0].cpu().numpy().reshape((28,28)))\n",
        "plt.imshow(v[0].detach().cpu().numpy()[:-1].reshape((28,28)))\n",
        "\n",
        "print(v[0][-1])\n"
      ],
      "metadata": {
        "id": "I-UnZD5kAzzx"
      },
      "execution_count": null,
      "outputs": []
    },
    {
      "cell_type": "code",
      "source": [
        "(data.bernoulli()[0].cpu().numpy()).shape"
      ],
      "metadata": {
        "id": "0PWaZ1LOklcC"
      },
      "execution_count": null,
      "outputs": []
    },
    {
      "cell_type": "code",
      "source": [],
      "metadata": {
        "id": "QN_HlcjFCwv_"
      },
      "execution_count": null,
      "outputs": []
    },
    {
      "cell_type": "code",
      "source": [
        "sample_data.shape"
      ],
      "metadata": {
        "id": "BpgCRN7vEGDc"
      },
      "execution_count": null,
      "outputs": []
    },
    {
      "cell_type": "code",
      "source": [],
      "metadata": {
        "id": "kjOcHH2NEKSW"
      },
      "execution_count": null,
      "outputs": []
    }
  ]
}